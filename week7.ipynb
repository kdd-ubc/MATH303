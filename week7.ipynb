{
 "cells": [
  {
   "cell_type": "markdown",
   "metadata": {},
   "source": [
    "# Week 7: Introducing the Poisson process\n",
    "\n",
    "After studying Discrete Time Markov Chains, we start a new chapter on the Poisson process, which relies on the Exponential Distribution. We reviewed some important properties of this distribution, which will be very useful to characterise the Poisson process.\n",
    "\n",
    "To sample from the exponential distribution, we can use the Numpy random library: https://numpy.org/doc/stable/reference/random/generated/numpy.random.exponential.html"
   ]
  },
  {
   "cell_type": "code",
   "execution_count": null,
   "metadata": {},
   "outputs": [],
   "source": [
    "import numpy as np\n",
    "\n",
    "lambda= #ADD PARAMETER HERE\n",
    "n= #ADD sample size here\n",
    "x= #ADD to sample n times from Exp(lambda)\n",
    "\n",
    "#Uncomment below if you want to display x\n",
    "#print(x)"
   ]
  },
  {
   "cell_type": "markdown",
   "metadata": {},
   "source": [
    "By sampling from the exponential distribution, let's verify that the minimum of two independent exponential r.v.'s is still exponential."
   ]
  },
  {
   "cell_type": "code",
   "execution_count": null,
   "metadata": {},
   "outputs": [],
   "source": [
    "import numpy as np\n",
    "import matplotlib.pyplot as plt\n",
    "\n",
    "lambda1= #ADD PARAMETER HERE\n",
    "lambda2= #ADD PARAMETER HERE\n",
    "\n",
    "#Becca: ADD code to sample the minimum and compare the empirical histogram to the pdf of the Exp(lambda1+lambda2)"
   ]
  },
  {
   "cell_type": "markdown",
   "metadata": {},
   "source": [
    "## Poisson process: A first example\n",
    "\n",
    "To introduce the Poisson process, we consider the following example. Suppose that your TA starts grading a pile of midterm exams at time $t=0$, one after the other. We assume that the time it takes to grade one exam follows an Exponential distribution of parameter $\\lambda$. Let's consider the random sequence of times $(T_i)_{1\\leq i \\leq n}$ of times when the $i$-th exam is graded. By sampling from the exponential distribution, generate a sample of times sequence and represent it on a time axis."
   ]
  },
  {
   "cell_type": "code",
   "execution_count": 1,
   "metadata": {},
   "outputs": [],
   "source": [
    "#Becca: ADD code here"
   ]
  },
  {
   "cell_type": "markdown",
   "metadata": {},
   "source": [
    "Suppose your TA has to grade 50 copies, and let $T$ be the time they spend on it. Using results from class, can you tell what law $T$ should follow? Compare this theoretical result with simulations"
   ]
  },
  {
   "cell_type": "code",
   "execution_count": null,
   "metadata": {},
   "outputs": [],
   "source": [
    "#Becca: ADD code here, produce N simulations and compare the empirical histogram with the theoretical pdf\n",
    "\n",
    "f= #ENTER THE THEORETICAL PDF HERE "
   ]
  },
  {
   "cell_type": "markdown",
   "metadata": {},
   "source": [
    "Let's go further and consider $N(t)$ the number of copies graded at time $t$. Use the previous code to plot to simulate the grading process and plot $N(t)$"
   ]
  },
  {
   "cell_type": "code",
   "execution_count": null,
   "metadata": {},
   "outputs": [],
   "source": [
    "#Becca: ADD code here"
   ]
  },
  {
   "cell_type": "markdown",
   "metadata": {},
   "source": [
    "By simulating the process multiple times, we can also extract a histogram of N(t)"
   ]
  },
  {
   "cell_type": "code",
   "execution_count": null,
   "metadata": {},
   "outputs": [],
   "source": [
    "t=\n",
    "#Becca: ADD code here"
   ]
  },
  {
   "cell_type": "markdown",
   "metadata": {},
   "source": [
    "Intuitively, given that it takes in average $\\frac{1}{\\lambda}$ to grade a copy, what should be $\\mathbb{E}(N(t))$ as a function of $t$ and $\\lambda$. We'll see in class that $N(t)$ actually follows a **Poisson distribution**."
   ]
  },
  {
   "cell_type": "markdown",
   "metadata": {},
   "source": [
    "## Homework Problem (to be added)"
   ]
  },
  {
   "cell_type": "code",
   "execution_count": null,
   "metadata": {},
   "outputs": [],
   "source": []
  }
 ],
 "metadata": {
  "kernelspec": {
   "display_name": "Python 3",
   "language": "python",
   "name": "python3"
  },
  "language_info": {
   "codemirror_mode": {
    "name": "ipython",
    "version": 3
   },
   "file_extension": ".py",
   "mimetype": "text/x-python",
   "name": "python",
   "nbconvert_exporter": "python",
   "pygments_lexer": "ipython3",
   "version": "3.7.6"
  }
 },
 "nbformat": 4,
 "nbformat_minor": 4
}
