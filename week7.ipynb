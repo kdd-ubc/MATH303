{
 "cells": [
  {
   "cell_type": "markdown",
   "metadata": {},
   "source": [
    "# Week 7: Introducing the Poisson process\n",
    "\n",
    "After studying Discrete Time Markov Chains, we start a new chapter on the Poisson process, which relies on the Exponential Distribution. We reviewed some important properties of this distribution, which will be very useful to characterise the Poisson process.\n",
    "\n",
    "To sample from the exponential distribution, we can use the Numpy random library (be careful with the scale parameter!): https://numpy.org/doc/stable/reference/random/generated/numpy.random.exponential.html"
   ]
  },
  {
   "cell_type": "code",
   "execution_count": null,
   "metadata": {},
   "outputs": [],
   "source": [
    "import numpy as np\n",
    "\n",
    "mu= #ADD PARAMETER HERE\n",
    "n= #ADD sample size here\n",
    "x= #ADD to sample n times from Exp(1/mu)\n",
    "\n",
    "#Uncomment below if you want to display x\n",
    "#print(x)\n",
    "print(np.mean(x)) #check that the average is approximately mu when n is large enough"
   ]
  },
  {
   "cell_type": "markdown",
   "metadata": {},
   "source": [
    "By sampling from the exponential distribution, let's verify that the minimum of two independent exponential r.v.'s is still exponential."
   ]
  },
  {
   "cell_type": "code",
   "execution_count": null,
   "metadata": {},
   "outputs": [],
   "source": [
    "import numpy as np\n",
    "import scipy.stats as st\n",
    "import matplotlib.pyplot as plt\n",
    "import math\n",
    "\n",
    "lambda1=  #ADD PARAMETER HERE\n",
    "lambda2=  #ADD PARAMETER HERE\n",
    "\n",
    "# Define a function to sample X = min(X1, X2) where X1 ~ Exp(lambda1), X2 ~ Exp(lambda2) are independent\n",
    "def sample_min_X1_X2(lambda1, lambda2, n):\n",
    "    X1 = #ADD to sample n times from Exp(lambda1)\n",
    "    X2 = #ADD to sample n times from Exp(lambda2)\n",
    "    return np.minimum(X1, X2)\n",
    "\n",
    "\n",
    "# Compute the empirical histogram and compare with the pdf of Exp(lambda1+lambda2)\n",
    "n = 10000   # Number of samples\n",
    "X_array = sample_min_X1_X2(lambda1, lambda2, n)   # Draw n samples from the distribution\n",
    "\n",
    "# Set up the plot\n",
    "fig, ax = plt.subplots(1, 1, figsize=(8, 4))    \n",
    "ax.set_xlabel(\"histogram bin\")\n",
    "ax.set_ylabel(\"Probability\")\n",
    "\n",
    "# Compute the histogram\n",
    "xi, bins, pr = ax.hist(X_array, 100, density=True, alpha=0.4)\n",
    "\n",
    "# Define the theoretical pdf\n",
    "def pdf(x):\n",
    "    return #ADD ANSWER HERE\n",
    "\n",
    "# Plot the theoretical pdf\n",
    "x_axis = np.arange(0, bins[-1], 0.2)\n",
    "ax.plot(x_axis, [pdf(x) for x in x_axis], '--', label='Theoretical pdf')\n",
    "ax.legend(loc='best', frameon=False)\n",
    "plt.show()"
   ]
  },
  {
   "cell_type": "markdown",
   "metadata": {},
   "source": [
    "## Poisson process: A first example\n",
    "\n",
    "To introduce the Poisson process, we consider the following example. Suppose that your TA starts grading a pile of midterm exams at time $t=0$, one after the other. We assume that the time it takes to grade one exam follows an Exponential distribution of parameter $\\lambda$. Let's consider the random sequence of times $(T_i)_{1\\leq i \\leq n}$ of times when the $i$-th exam is graded. By sampling from the exponential distribution, generate a sample of the sequence of times showing when each exam is graded and represent it on a time axis."
   ]
  },
  {
   "cell_type": "code",
   "execution_count": null,
   "metadata": {},
   "outputs": [],
   "source": [
    "import numpy as np\n",
    "import scipy.stats as st\n",
    "import matplotlib.pyplot as plt\n",
    "\n",
    "Lambda =  #ADD PARAMETER HERE\n",
    "N =  #ADD PARAMETER HERE\n",
    "\n",
    "# Define a function which samples N times according to Exp(Lambda)\n",
    "def sample_times(Lambda, N):\n",
    "    return np.random.exponential(1/Lambda, N)\n",
    "\n",
    "\n",
    "# Sample the times for grading each exam\n",
    "Ti = sample_times(Lambda, N)\n",
    "\n",
    "#Uncomment below if you want to display Ti\n",
    "#print(Ti)\n",
    "\n",
    "# Calculate the time sequence\n",
    "Timeseq = np.cumsum(Ti)\n",
    "\n",
    "# Plot on a time axis\n",
    "fig, ax = plt.subplots(1, 1, figsize=(8, 4))    \n",
    "ax.set_xlabel(\"Time\")\n",
    "ax.set_ylim([0.75,1.25])\n",
    "ax.plot([0,Timeseq[-1]], [1,1], color='k' )\n",
    "plt.yticks([])\n",
    "ax.eventplot(Timeseq, linelengths=0.1)\n",
    "plt.show()"
   ]
  },
  {
   "cell_type": "markdown",
   "metadata": {},
   "source": [
    "Suppose your TA has to grade 50 copies, and let $T$ be the time they spend on it. We assume it takes the time to grade one copy is exponential  5 min in average. Using results from class, can you tell what law $T$ should follow? Compare this theoretical result with simulations"
   ]
  },
  {
   "cell_type": "code",
   "execution_count": null,
   "metadata": {},
   "outputs": [],
   "source": [
    "import numpy as np\n",
    "import scipy.stats as st\n",
    "import matplotlib.pyplot as plt\n",
    "import math\n",
    "\n",
    "N =   # Number of copies\n",
    "Lambda =  #ADD PARAMETER HERE\n",
    "\n",
    "# Define a function which samples T by sampling grading times for each paper and summing them\n",
    "def sample_total_time(Lambda, N):\n",
    "    times = sample_times(Lambda, N)\n",
    "    return np.sum(times)\n",
    "\n",
    "# Sample T a number of times\n",
    "m = 1000\n",
    "T_array = np.zeros(m)\n",
    "for i in range(m):\n",
    "    T_array[i] = sample_total_time(Lambda, N)\n",
    "\n",
    "# Plot the empirical histogram and the theoretical pdf for T to compare\n",
    "fig, ax = plt.subplots(1, 1, figsize=(8, 4))    \n",
    "ax.set_xlabel(\"histogram bin\")\n",
    "ax.set_ylabel(\"Probability\")\n",
    "\n",
    "# Compute and plot the histogram\n",
    "ti, bins, pr = ax.hist(T_array, 100, density=True, alpha=0.4)\n",
    "\n",
    "# Specify the theoretical pdf\n",
    "x = np.linspace(0, bins[-1], num=100)\n",
    "f=  #ENTER THE THEORETICAL PDF f(x) HERE \n",
    "\n",
    "# Plot the theoretical pdf\n",
    "ax.plot(x, f, '--', label='Theoretical pdf')\n",
    "ax.legend(loc='best', frameon=False)\n",
    "plt.show()"
   ]
  },
  {
   "cell_type": "markdown",
   "metadata": {},
   "source": [
    "Let's go further and consider $N(t)$ the number of copies graded at time $t$. Use the previous code to plot to simulate the grading process and plot $N(t)$"
   ]
  },
  {
   "cell_type": "code",
   "execution_count": null,
   "metadata": {},
   "outputs": [],
   "source": [
    "import numpy as np\n",
    "import scipy.stats as st\n",
    "import matplotlib.pyplot as plt\n",
    "import math\n",
    "\n",
    "Lambda =  #ADD PARAMETER HERE\n",
    "tmax=  # ADD PARAMETER HERE (maximum time of observation)\n",
    "\n",
    "def num_copies_graded(tmax, Lambda):\n",
    "    t_array = np.linspace(0, tmax, num=100)\n",
    "    count=np.zeros(100)\n",
    "    event=0\n",
    "    while event < t_array[-1]:\n",
    "        Ti = sample_times(Lambda, 1)\n",
    "        event += Ti\n",
    "        count[t_array >= event] +=1\n",
    "    return count\n",
    "\n",
    "\n",
    "# Plot N(t)\n",
    "fig, ax = plt.subplots(1, 1, figsize=(8, 4))    \n",
    "ax.set_xlabel(\"t\")\n",
    "ax.set_ylabel(\"N(t)\")\n",
    "\n",
    "t_array = np.linspace(0, tmax, num=100)\n",
    "ax.plot(t_array, num_copies_graded(tmax, Lambda))\n",
    "plt.show()"
   ]
  },
  {
   "cell_type": "markdown",
   "metadata": {},
   "source": [
    "By simulating the process multiple times, we can also extract a histogram of N(t)"
   ]
  },
  {
   "cell_type": "code",
   "execution_count": null,
   "metadata": {},
   "outputs": [],
   "source": [
    "t =  #ADD PARAMETER HERE\n",
    "Lambda = #ADD PARAMETER HERE\n",
    "\n",
    "# Sample N(t) a number of times\n",
    "m = 10000\n",
    "Nt_array = np.zeros(m)\n",
    "for i in range(m):\n",
    "    N=num_copies_graded(t, Lambda)\n",
    "    Nt_array[i] = N[-1]\n",
    "\n",
    "# Plot the empirical histogram\n",
    "fig, ax = plt.subplots(1, 1, figsize=(8, 4))    \n",
    "ax.set_xlabel(\"histogram bin\")\n",
    "ax.set_ylabel(\"Probability\")\n",
    "\n",
    "plt.hist(Nt_array, 100, density=True, alpha=0.6)\n",
    "plt.show()"
   ]
  },
  {
   "cell_type": "markdown",
   "metadata": {},
   "source": [
    "Intuitively, given that it takes in average $\\frac{1}{\\lambda}$ to grade a copy, what should be $\\mathbb{E}(N(t))$ as a function of $t$ and $\\lambda$? We'll see in class that $N(t)$ actually follows a **Poisson distribution**."
   ]
  },
  {
   "cell_type": "markdown",
   "metadata": {},
   "source": [
    "# Homework Problem 6"
   ]
  },
  {
   "cell_type": "markdown",
   "metadata": {},
   "source": [
    "## 6.1 Branching Process with Immigration\n",
    "\n",
    "Use the solution to Problem 5.3 from last week to extract the  empirical expectation and variance of the Branching process with  immigrants, and compare them with the results of Problem 5."
   ]
  },
  {
   "cell_type": "code",
   "execution_count": null,
   "metadata": {},
   "outputs": [],
   "source": [
    "import numpy as np\n",
    "import matplotlib.pyplot as plt\n",
    "import scipy.stats as st\n",
    "\n",
    "Ntraj= 100 #specify the number of trajectories (Ntraj=1 for a single trajectory)\n",
    "Ngen= 1000 #specify the number of generations (be careful to not select Ngen too large when your the population explodes in time)\n",
    "Z_array = np.zeros((Ntraj, Ngen), dtype=int) #Record all the trajectories\n",
    "\n",
    "p = 1/4 #Specify the parameter of the binomial e.g. 1/4.\n",
    "mu = 1 #Specify the parameter of the Poisson e.g. 1.\n",
    "\n",
    "for n in range(Ntraj):\n",
    "    \n",
    "    Z=[]\n",
    "    Z.append(1) # Initialize\n",
    "\n",
    "    # Run the process \n",
    "    for i in range(Ngen-1):\n",
    "        # Creating the next generation\n",
    "        # https://numpy.org/doc/stable/reference/random/generated/numpy.random.choice.html\n",
    "        # We look at the offspring of each individual of the last generation computed.\n",
    "        next_gen = np.sum(np.random.binomial(2, p, size=Z[-1]))\n",
    "        immigrants = np.random.poisson(mu)\n",
    "        Z.append(next_gen+immigrants)\n",
    "        # Increment counter\n",
    "        i+=1\n",
    "    \n",
    "    Z_array[n,:len(Z)]=Z \n",
    "    \n",
    "\n",
    "# Extract the empirical expectation of the process using Z_array\n",
    "#ADD SOLUTION HERE\n",
    "\n",
    "# Extract the empirical variance of the process using Z_array\n",
    "#ADD SOLUTION HERE"
   ]
  },
  {
   "cell_type": "markdown",
   "metadata": {},
   "source": [
    "## 6.2 A queuing model\n",
    "\n",
    "People are entering a bank and wait in line before being served.  We assume that the arrival of the next customer follows an exponential law of parameter $\\beta$, and that there are two tellers, with service times following two exponential laws of parameters $\\lambda_1$ and $\\lambda_2$.  When one customer is served, the next in line takes their place. We also assume that arrival and service events are independent. At a given time, can you tell the probabilities associated with the next event (a customer arrives, teller 1 or 2 finishes serving a client) and the time it happens?  Use this to simulate the length of the line over time."
   ]
  },
  {
   "cell_type": "markdown",
   "metadata": {},
   "source": [
    "Let is denote the random variable describing the time of the next event $T$.\n",
    "\n",
    "Let us denote the random variable describing the length of the line at time t by $L(t)$. "
   ]
  },
  {
   "cell_type": "code",
   "execution_count": null,
   "metadata": {},
   "outputs": [],
   "source": [
    "import numpy as np\n",
    "import matplotlib.pyplot as plt\n",
    "import scipy.stats as st\n",
    "\n",
    "beta = #ADJUST PARAMETER HERE\n",
    "lambda1 = #ADJUST PARAMETER HERE\n",
    "lambda2 = #ADJUST PARAMETER HERE\n",
    "\n",
    "\n",
    "# Define the probabilities of interest\n",
    "def prob_next_event_is_customer_arrives(beta, lambda1, lambda2):\n",
    "    return   #DEFINE PROBABILTIY THAT THE NEXT EVENT = CUSTOMER ARRIVES\n",
    "\n",
    "# Sample the time of the next event T from its distribution\n",
    "def sample_T(beta, lambda1, lambda2):\n",
    "    return  #DEFINE DISTRIBUTION FOR T HERE \n",
    "\n",
    "\n",
    "# We now use these probabilities to simulate the length of the line over time\n",
    "L0 = 0    # Initial state\n",
    "t0 = 0    # Initial time\n",
    "n = 100   # Number of times sampled\n",
    "\n",
    "# Initialize the process\n",
    "t = np.zeros(n)\n",
    "t[0] = t0\n",
    "\n",
    "L = np.zeros(n)\n",
    "L[0] = L0\n",
    "\n",
    "# Define the event probabilites\n",
    "event_prob = [prob_next_event_is_customer_arrives(beta, lambda1, lambda2),\n",
    "              1 - prob_next_event_is_customer_arrives(beta, lambda1, lambda2)]\n",
    "\n",
    "# For the one customer case\n",
    "prob_of_teller = [lambda1/(lambda1+lambda2), 1 - lambda1/(lambda1+lambda2)]\n",
    "prob_customer_arrives_first = (beta/(lambda1+beta))*prob_of_teller[0] + (beta/(lambda2+beta))*prob_of_teller[1]\n",
    "event_prob_one_customer = [prob_customer_arrives_first, 1-prob_customer_arrives_first]\n",
    "\n",
    "# Simulate the process\n",
    "for i in range(n-1):\n",
    "    # Sample the time of the next event\n",
    "    t[i+1] = t[i] + sample_T(beta, lambda1, lambda2)\n",
    "    \n",
    "    if L[i] == 0:    # no customers in the line --> next event must be a customer arriving\n",
    "        L[i+1] = L[i] + 1\n",
    "    else:\n",
    "        # Sample which of the events occured\n",
    "        if L[i] == 1:    # one customer in line --> only account for the teller serving the one customer\n",
    "            next_event = np.random.choice([0, 1], p=event_prob_one_customer)\n",
    "        else:\n",
    "            next_event = #ENTER ANSWER HERE (use the function np.random.choice)\n",
    "\n",
    "        # Increment or decrement the line accordingly\n",
    "        if next_event == 0:    # Customer arrives\n",
    "            L[i+1] = L[i] + 1\n",
    "        else:    # Teller 1 or 2 finishes with a customer\n",
    "            \n",
    "            L[i+1] = L[i] - 1\n",
    "\n",
    "            \n",
    "# Plot the simulated realization\n",
    "fig, ax = plt.subplots(1, 1, figsize=(8, 4))\n",
    "ax.set_xlabel(\"time\")\n",
    "ax.set_ylabel(\"Length of the line (L(t))\")\n",
    "plt.plot(t, L)\n",
    "plt.show()"
   ]
  },
  {
   "cell_type": "code",
   "execution_count": null,
   "metadata": {},
   "outputs": [],
   "source": []
  }
 ],
 "metadata": {
  "kernelspec": {
   "display_name": "Python 3",
   "language": "python",
   "name": "python3"
  },
  "language_info": {
   "codemirror_mode": {
    "name": "ipython",
    "version": 3
   },
   "file_extension": ".py",
   "mimetype": "text/x-python",
   "name": "python",
   "nbconvert_exporter": "python",
   "pygments_lexer": "ipython3",
   "version": "3.7.3"
  }
 },
 "nbformat": 4,
 "nbformat_minor": 4
}
