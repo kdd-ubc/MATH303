{
 "cells": [
  {
   "cell_type": "markdown",
   "metadata": {},
   "source": [
    "# Week 11-12: Continuous Time Markov Chains\n",
    "\n",
    "In the third chapter of the course, we focus on Continuous Time Markov Chains, which generalize the Poisson process and are a continuous-time analog of the Discrete Time Markov Chain studied in Chapter 1.\n",
    "\n",
    "In this notebook, we will first focus on how to simulate these processes. \n",
    "\n",
    "In class, we have seen that we can define the process from the transition matrix $Q = (q_{i,j})$. Let's write down the transition matrix associated with the process described in Problem 4 of the homework: We have for this process $v_0=\\lambda$, $v_1=\\mu_1$ and $v_2=\\mu_2$, $p_{0,1}=p$, $p_{0,2}=1-p$, $p_{1,2}=p_{2,1}=0$ and $p_{2,0}=p_{1,0}=1$. As an exercise, enter the values of the state space $S$ and corresponding transition matrix $Q$ for $p=0.5$, $\\lambda=1$, $\\mu_1=2$ and $\\mu_2=3$."
   ]
  },
  {
   "cell_type": "code",
   "execution_count": null,
   "metadata": {},
   "outputs": [],
   "source": [
    "S = [0,1,2] # enter the state space\n",
    "Q = [[-1, 0.5,0.5],[2 ,-2 , 0],[ 3,0 ,-3 ]]# enter the matrix Q\n",
    "P = [[0,0.5,0.5],[1,0,0],[1,0,0]]# enter the matrix of p_{ij}"
   ]
  },
  {
   "cell_type": "markdown",
   "metadata": {},
   "source": [
    "To simulate the process, we need to first simulate the time to the next jump and the state the process will jump to. Complete the following code to generate one trajectory of the process."
   ]
  },
  {
   "cell_type": "code",
   "execution_count": null,
   "metadata": {},
   "outputs": [],
   "source": [
    "import numpy as np\n",
    "import matplotlib.pyplot as plt\n",
    "\n",
    "# specify global variables\n",
    "N_traj = 1\n",
    "nsteps = 10                # number of transitions to simulate\n",
    "xstates = np.zeros(nsteps, dtype=int) # record the states\n",
    "tjumps = np.zeros(nsteps)  # record the jump times\n",
    "xstates[0] = 0             # initial state\n",
    "tjumps[0] = 0              # initial time\n",
    "\n",
    "\n",
    "# The following function simulates the process\n",
    "def simulate_process(xstates, tjumps, nsteps):\n",
    "    for tidx in range(nsteps - 1):\n",
    "        current_state = xstates[tidx]\n",
    "        # update the jump time array\n",
    "        rate = -Q[current_state][current_state] #Enter the rate of the Exponential time of the next jump, as a function of Q\n",
    "        tjumps[tidx + 1] = tjumps[tidx] + np.random.exponential(1 / rate)\n",
    "        # update the next state as a function of P\n",
    "        #see also https://numpy.org/doc/stable/reference/random/generated/numpy.random.choice.html\n",
    "        xstates[tidx + 1] = np.random.choice(S, 1, p=P[current_state])\n",
    "           \n",
    "        \n",
    "# use the function\n",
    "simulate_process(xstates, tjumps, nsteps)\n",
    "    \n",
    "# plot of one trajectory\n",
    "def current_state(tval, tjumps):\n",
    "    for i in range(0, len(tjumps) - 1):\n",
    "        if  tjumps[i] <= tval < tjumps[i + 1]:\n",
    "            return xstates[i]\n",
    "        \n",
    "t = np.linspace(0, tjumps[-1] + 2, num=10000)\n",
    "x = np.zeros(len(t))\n",
    "for k in range(0, len(t)):\n",
    "    x[k] = current_state(t[k], tjumps)\n",
    "\n",
    "fig, ax = plt.subplots(1, 1, figsize=(8, 4))    \n",
    "ax.set_xlabel(\"t\")\n",
    "ax.set_ylabel(\"X(t)\")\n",
    "ax.plot(t, x)\n",
    "plt.show()"
   ]
  },
  {
   "cell_type": "markdown",
   "metadata": {},
   "source": [
    "By simulating the Markov chain over a long time, we can empirically obtain the stationary distribution of the process (if it exists) by extracting the average fraction of time spent in each state (cf. class). Run the following script to empirically estimate the stationary distribution"
   ]
  },
  {
   "cell_type": "code",
   "execution_count": null,
   "metadata": {},
   "outputs": [],
   "source": [
    "nsteps = 10000\n",
    "xstates = np.zeros(nsteps, dtype=int)\n",
    "tjumps = np.zeros(nsteps) \n",
    "simulate_process(xstates, tjumps, nsteps)\n",
    "\n",
    "# stationary distribution\n",
    "pi = np.zeros(3)\n",
    "\n",
    "# add the time intervals the process X(t) spends in each state\n",
    "for tidx in range(nsteps - 1):\n",
    "    if xstates[tidx] == 0:\n",
    "        pi[0] += tjumps[tidx + 1] - tjumps[tidx]\n",
    "    elif xstates[tidx] == 1:\n",
    "        pi[1] += tjumps[tidx + 1] - tjumps[tidx]\n",
    "    elif xstates[tidx] == 2:\n",
    "        pi[2] += tjumps[tidx + 1] - tjumps[tidx]\n",
    "\n",
    "# normalize stationary distribution pi\n",
    "pi = pi / tjumps[nsteps - 1]\n",
    "\n",
    "print(\"The empirical stationary distribution is pi =\", pi, \".\")"
   ]
  },
  {
   "cell_type": "markdown",
   "metadata": {},
   "source": [
    "Compare these results with the theoretical stationary distribution:"
   ]
  },
  {
   "cell_type": "code",
   "execution_count": null,
   "metadata": {},
   "outputs": [],
   "source": [
    "# enter the values of lambda, mu_1, mu_2 and p\n",
    "lmbda = 1\n",
    "mu1 = 2\n",
    "mu2 = 3\n",
    "p = 0.5\n",
    "\n",
    "\n",
    "P = [1 / (1 + p*lmbda/mu1 + (1-p)*lmbda/mu2),\n",
    "     p*lmbda/mu1 / (1 + p*lmbda/mu1 + (1-p)*lmbda/mu2),\n",
    "     (1-p)*lmbda/mu2 / (1 + p*lmbda/mu1 + (1-p)*lmbda/mu2)] # ENTER the theoretical stationary distribution P\n",
    "\n",
    "print(\"The theoretical stationary distribution is P =\", P, \".\")\n",
    "\n",
    "# visually compare empirical with theoretical distr.\n",
    "opacity = 0.4\n",
    "bar_width = 0.35\n",
    "\n",
    "plt.xlabel('k')\n",
    "plt.ylabel('pi[k]')\n",
    "plt.xticks(range(3),(\"0\", \"1\", \"2\"))\n",
    "plt.bar(np.arange(3)+ bar_width, pi, bar_width, align=\"center\", alpha=opacity, color=\"b\", label=\"empirical\")\n",
    "plt.bar(range(3), P, bar_width, align=\"center\", alpha=opacity, color=\"r\", label=\"theoretical\")\n",
    "plt.legend()\n",
    "plt.tight_layout()\n",
    "plt.show()"
   ]
  },
  {
   "cell_type": "markdown",
   "metadata": {},
   "source": [
    "# Homework Problems"
   ]
  },
  {
   "cell_type": "markdown",
   "metadata": {},
   "source": [
    "1. Simulate the chain corresponding with Problems 1-3. "
   ]
  },
  {
   "cell_type": "code",
   "execution_count": null,
   "metadata": {},
   "outputs": [],
   "source": [
    "# The Q matrix for problem 1 is given by\n",
    "Q = [[-1,1/4,1/4,1/4,1/4],\n",
    "     [1/4,-1,1/4,1/4,1/4],\n",
    "     [1/4,1/4,-1,1/4,1/4],\n",
    "     [1/4,1/4,1/4,-1,1/4],\n",
    "     [1/4,1/4,1/4,1/4,-1]]\n",
    "# This CTMC is easy to simulate without using the big Q matrix since it has a lot of symmetries "
   ]
  },
  {
   "cell_type": "code",
   "execution_count": null,
   "metadata": {},
   "outputs": [],
   "source": [
    "# Water lilies - Problem 1 \n",
    "\n",
    "# It is equivalent to simulate a Markov chain on {1,...,5} with \n",
    "# the correct P matrix and a posteriori, by symmetry, to add the exponential times\n",
    "\n",
    "import numpy as np\n",
    "import matplotlib.pyplot as plt\n",
    "\n",
    "\n",
    "# specify global variables\n",
    "nsteps = 100               # number of transitions to simulate\n",
    "xstates = np.zeros(nsteps) # record the states\n",
    "tjumps = np.zeros(nsteps)  # record the jump times\n",
    "xstates[0] = 0             # start from lily 0\n",
    "tjumps[0] = 0              # initial time\n",
    "rate = 1\n",
    "\n",
    "nblilies = 5\n",
    "\n",
    "\n",
    "for i in range(1,nsteps - 1):\n",
    "    S = [i for i in range(nblilies)]\n",
    "    S.remove(xstates[i-1])\n",
    "    xstates[i] = np.random.choice(S) # choose the next lily\n",
    "\n",
    "for i in range(1,nsteps - 1):\n",
    "     tjumps[i + 1] = tjumps[i] + np.random.exponential(1 / rate) \n",
    "        \n",
    "\n",
    "# plot the trajectory\n",
    "def current_state(tval, tjumps):\n",
    "    for i in range(0, len(tjumps) - 1):\n",
    "        if  tjumps[i] <= tval < tjumps[i + 1]:\n",
    "            return xstates[i]\n",
    "\n",
    "t = np.linspace(0, tjumps[-1] + 2, num=10000)\n",
    "x = np.zeros(len(t))\n",
    "for k in range(0, len(t)):\n",
    "    x[k] = current_state(t[k], tjumps)\n",
    "\n",
    "fig, ax = plt.subplots(1, 1, figsize=(8, 4))    \n",
    "ax.set_xlabel(\"t\")\n",
    "ax.set_ylabel(\"X(t)\")\n",
    "ax.plot(t, x)\n",
    "plt.show()"
   ]
  },
  {
   "cell_type": "code",
   "execution_count": 4,
   "metadata": {},
   "outputs": [
    {
     "data": {
      "image/png": "[encoded data removed]",
      "text/plain": [
       "<Figure size 576x288 with 1 Axes>"
      ]
     },
     "metadata": {
      "needs_background": "light"
     },
     "output_type": "display_data"
    },
    {
     "data": {
      "image/png": "[encoded data removed]",
      "text/plain": [
       "<Figure size 576x288 with 1 Axes>"
      ]
     },
     "metadata": {
      "needs_background": "light"
     },
     "output_type": "display_data"
    }
   ],
   "source": [
    "# A and B cells - Problem 2\n",
    "# The Q matrix formalism is not great to \n",
    "# simulate this Markov chain since the state-space is infinite\n",
    "# Instead we proceed as follows\n",
    "\n",
    "import numpy as np\n",
    "import matplotlib.pyplot as plt\n",
    "\n",
    "\n",
    "# specify global variables\n",
    "nsteps = 100               # number of transitions to simulate\n",
    "\n",
    "alpha = 2\n",
    "beta = 1\n",
    "\n",
    "Acells_states = np.zeros(nsteps) # record the A cells in time\n",
    "Bcells_states = np.zeros(nsteps) # record the B cells in time\n",
    "tjumps = np.zeros(nsteps)        # record the jump times\n",
    "Acells_states[0] = 1             # start from 1 A cells\n",
    "Bcells_states[0] = 0             # start from 0 B cells\n",
    "tjumps[0] = 0 \n",
    "\n",
    "\n",
    "for step in range(1,nsteps):\n",
    "    # determine what event occurs: mutation A->B or division and mutation B-> 2A\n",
    "    \n",
    "    rate = alpha*Acells_states[step-1]+beta*Bcells_states[step-1]\n",
    "    p = alpha*Acells_states[step-1]/rate\n",
    "\n",
    "    ber = np.random.binomial(1,p)\n",
    "    if ber == 1: #mutation A-> B\n",
    "        Acells_states[step] = Acells_states[step-1] - 1\n",
    "        Bcells_states[step] = Bcells_states[step-1] + 1\n",
    "    if ber == 0: #mutation and division B -> 2A \n",
    "        Acells_states[step] = Acells_states[step-1] + 2\n",
    "        Bcells_states[step] = Bcells_states[step-1] - 1\n",
    "    tjumps[step] = tjumps[step-1] + np.random.exponential(1/rate)\n",
    "        \n",
    "\n",
    "# plot the trajectory\n",
    "\n",
    "fig, ax = plt.subplots(1, 1, figsize=(8, 4))    \n",
    "ax.set_xlabel(\"t\")\n",
    "ax.set_ylabel(\"Nb of A cells (t)\")\n",
    "plt.plot(tjumps, Acells_states, drawstyle='steps-pre')\n",
    "\n",
    "fig2, ax2 = plt.subplots(1, 1, figsize=(8, 4))    \n",
    "ax2.set_xlabel(\"t\")\n",
    "ax2.set_ylabel(\"Nb of B cells (t)\")\n",
    "plt.plot(tjumps, Bcells_states, drawstyle='steps-pre')\n",
    "plt.show()"
   ]
  },
  {
   "cell_type": "code",
   "execution_count": 8,
   "metadata": {},
   "outputs": [
    {
     "data": {
      "text/plain": [
       "[<matplotlib.lines.Line2D at 0x22ae92fad00>]"
      ]
     },
     "execution_count": 8,
     "metadata": {},
     "output_type": "execute_result"
    },
    {
     "data": {
      "image/png": "[encoded data removed]",
      "text/plain": [
       "<Figure size 576x288 with 1 Axes>"
      ]
     },
     "metadata": {
      "needs_background": "light"
     },
     "output_type": "display_data"
    }
   ],
   "source": [
    "# Rumor spreading - Problem 3 \n",
    "\n",
    "import numpy as np\n",
    "import matplotlib.pyplot as plt\n",
    "\n",
    "# The S matrix for problem 3 is given by\n",
    "S = [1,2,3,4]\n",
    "# The Q matrix for problem 3 is given by\n",
    "Q = [[-3,3,0,0],\n",
    "     [0,4,-4,0],\n",
    "     [0,0,3,-3],\n",
    "     [0,0,0,-1]]\n",
    "\n",
    "# Generalize with an arbitrary number of people, but take 4 for our example\n",
    "N_people = 1000\n",
    "# This process is very easy to model indeed the only trajectory is 1->2->3->4 and only the times are random\n",
    "xtraj = [i for i in range(1,N_people+1)]\n",
    "\n",
    "tjumps = np.zeros(N_people)\n",
    "tjumps[0] = 0\n",
    "\n",
    "# creating the random times\n",
    "for k in range(1,N_people):\n",
    "    rate = k*(N_people-k) # If k people know, each one of these k can spread the rumor among N-k unaware people. \n",
    "    tjumps[k] = tjumps[k-1] + np.random.exponential(1/rate)\n",
    "    \n",
    "# Plot the process\n",
    "fig, ax = plt.subplots(1, 1, figsize=(8, 4))    \n",
    "ax.set_xlabel(\"t\")\n",
    "ax.set_ylabel(\"Nb of people aware of the rumor at time t\")\n",
    "plt.plot(tjumps, xtraj, drawstyle='steps-pre')"
   ]
  },
  {
   "cell_type": "markdown",
   "metadata": {},
   "source": [
    "2. Simulate a birth death process with birth rate $\\lambda$ and death rate $\\mu$ (the state space is infinite so we cannot define the matrix $Q$, but we can still use a similar algorithm by simulating the time of the next jump and if it is a birth or a death event)."
   ]
  },
  {
   "cell_type": "code",
   "execution_count": 15,
   "metadata": {},
   "outputs": [
    {
     "data": {
      "text/plain": [
       "[<matplotlib.lines.Line2D at 0x22ae917efa0>]"
      ]
     },
     "execution_count": 15,
     "metadata": {},
     "output_type": "execute_result"
    },
    {
     "data": {
      "image/png": "[encoded data removed]",
      "text/plain": [
       "<Figure size 576x288 with 1 Axes>"
      ]
     },
     "metadata": {
      "needs_background": "light"
     },
     "output_type": "display_data"
    }
   ],
   "source": [
    "import numpy as np\n",
    "import matplotlib.pyplot as plt\n",
    "\n",
    "\n",
    "# specify global variables\n",
    "nsteps = 1000             # number of transitions to simulate\n",
    "\n",
    "lmbda = 1 # birth rate\n",
    "mu = 1 # death rate\n",
    "\n",
    "N = [0] # this is our CTMC\n",
    "tjumps = np.zeros(nsteps)        # record the jump times\n",
    "tjumps[0] = 0 \n",
    "\n",
    "\n",
    "for step in range(1,nsteps):\n",
    "    # determine what event occurs: mutation A->B or division and mutation B-> 2A\n",
    "    \n",
    "    rate = lmbda + mu\n",
    "    p = lmbda/(lmbda + mu) #probability of a birth\n",
    "    \n",
    "    if N[-1] == 0: #If there is nobody only a birth can happen\n",
    "        p = 1\n",
    "        rate = 1/lmbda\n",
    "        \n",
    "    ber = np.random.binomial(1,p) #does a birth happen before a death?\n",
    "    \n",
    "    if ber == 1: # birth\n",
    "        N.append(N[-1]+1)\n",
    "    if ber == 0: # death\n",
    "        N.append(N[-1]-1)\n",
    "    tjumps[step] = tjumps[step-1] + np.random.exponential(1/rate)\n",
    "        \n",
    "\n",
    "# plot the trajectory\n",
    "\n",
    "fig, ax = plt.subplots(1, 1, figsize=(8, 4))    \n",
    "ax.set_xlabel(\"t\")\n",
    "ax.set_ylabel(\"birth and rate process (t)\")\n",
    "plt.plot(tjumps, N, drawstyle='steps-pre')"
   ]
  },
  {
   "cell_type": "code",
   "execution_count": null,
   "metadata": {},
   "outputs": [],
   "source": []
  }
 ],
 "metadata": {
  "kernelspec": {
   "display_name": "Python 3",
   "language": "python",
   "name": "python3"
  },
  "language_info": {
   "codemirror_mode": {
    "name": "ipython",
    "version": 3
   },
   "file_extension": ".py",
   "mimetype": "text/x-python",
   "name": "python",
   "nbconvert_exporter": "python",
   "pygments_lexer": "ipython3",
   "version": "3.7.3"
  }
 },
 "nbformat": 4,
 "nbformat_minor": 4
}
