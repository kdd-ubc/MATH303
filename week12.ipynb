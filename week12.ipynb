{
 "cells": [
  {
   "cell_type": "markdown",
   "metadata": {},
   "source": [
    "# Week 11-12: Continuous Time Markov Chains\n",
    "\n",
    "In the third chapter of the course, we focus on Continuous Time Markov Chains, which generalize the Poisson process and are a continuous-time analog of the Discrete Time Markov Chain studied in Chapter 1.\n",
    "\n",
    "In this notebook, we will first focus on how to simulate these processes. \n",
    "\n",
    "In class, we have seen that we can define the process from the transition matrix $Q = (q_{i,j})$. Let's write down the transition matrix associated with the process described in Problem 4 of the homework: We have for this process $v_0=\\lambda$, $v_1=\\mu_1$ and $v_2=\\mu_2$, $p_{0,1}=p$, $p_{0,2}=1-p$, $p_{1,2}=p_{2,1}=0$ and $p_{2,0}=p_{1,0}=1$. As an exercise, enter the values of the state space $S$ and corresponding transition matrix $Q$ for $p=0.5$, $\\lambda=1$, $\\mu_1=2$ and $\\mu_2=3$."
   ]
  },
  {
   "cell_type": "code",
   "execution_count": 100,
   "metadata": {},
   "outputs": [],
   "source": [
    "import numpy as np\n",
    "S = # enter the state space\n",
    "Q = # enter the matrix Q\n",
    "P = # enter the matrix of p_{ij}"
   ]
  },
  {
   "cell_type": "markdown",
   "metadata": {},
   "source": [
    "To simulate the process, we need to first simulate the time to the next jump and the state the process will jump to. Complete the following code to generate one trajectory of the process."
   ]
  },
  {
   "cell_type": "code",
   "execution_count": 101,
   "metadata": {},
   "outputs": [
    {
     "data": {
      "image/png": "[encoded data removed]",
      "text/plain": [
       "<Figure size 576x288 with 1 Axes>"
      ]
     },
     "metadata": {
      "needs_background": "light"
     },
     "output_type": "display_data"
    }
   ],
   "source": [
    "import numpy as np\n",
    "import matplotlib.pyplot as plt\n",
    "\n",
    "# specify global variables\n",
    "N_traj = 1\n",
    "nsteps = 10                # number of transitions to simulate\n",
    "xstates = np.zeros(nsteps, dtype=int) # record the states\n",
    "tjumps = np.zeros(nsteps)  # record the jump times\n",
    "xstates[0] = 0             # initial state\n",
    "tjumps[0] = 0              # initial time\n",
    "\n",
    "\n",
    "# The following function simulates the process\n",
    "def simulate_process(xstates, tjumps, nsteps):\n",
    "    for tidx in range(nsteps - 1):\n",
    "        current_state = xstates[tidx]\n",
    "        # update the jump time array\n",
    "        rate =   #ENTER the rate of the Exponential time of the next jump, as a function of Q\n",
    "        tjumps[tidx + 1] = tjumps[tidx] + np.random.exponential(1 / rate)\n",
    "        # update the next state as a function of P\n",
    "        #see also https://numpy.org/doc/stable/reference/random/generated/numpy.random.choice.html\n",
    "        xstates[tidx + 1] = np.random.choice(S, 1, p= ) #COMPLETE with the correct distribution, as a function of P\n",
    "           \n",
    "        \n",
    "# use the function\n",
    "simulate_process(xstates, tjumps, nsteps)\n",
    "    \n",
    "# plot of one trajectory\n",
    "def current_state(tval, tjumps):\n",
    "    for i in range(0, len(tjumps) - 1):\n",
    "        if  tjumps[i] <= tval < tjumps[i + 1]:\n",
    "            return xstates[i]\n",
    "        \n",
    "t = np.linspace(0, tjumps[-1] + 2, num=10000)\n",
    "x = np.zeros(len(t))\n",
    "for k in range(0, len(t)):\n",
    "    x[k] = current_state(t[k], tjumps)\n",
    "\n",
    "fig, ax = plt.subplots(1, 1, figsize=(8, 4))    \n",
    "ax.set_xlabel(\"t\")\n",
    "ax.set_ylabel(\"X(t)\")\n",
    "ax.plot(t, x)\n",
    "plt.show()"
   ]
  },
  {
   "cell_type": "markdown",
   "metadata": {},
   "source": [
    "By simulating the Markov chain over a long time, we can empirically obtain the stationary distribution of the process (if it exists) by extracting the average fraction of time spent in each state (cf. class). Run the following script to empirically estimate the stationary distribution"
   ]
  },
  {
   "cell_type": "code",
   "execution_count": 102,
   "metadata": {},
   "outputs": [
    {
     "name": "stdout",
     "output_type": "stream",
     "text": [
      "The empirical stationary distribution is pi = [0.70577954 0.17497455 0.11924591] .\n"
     ]
    }
   ],
   "source": [
    "nsteps = 10000\n",
    "xstates = np.zeros(nsteps, dtype=int)\n",
    "tjumps = np.zeros(nsteps) \n",
    "simulate_process(xstates, tjumps, nsteps)\n",
    "\n",
    "# stationary distribution\n",
    "pi = np.zeros(3)\n",
    "\n",
    "# add the time intervals the process X(t) spends in each state\n",
    "for tidx in range(nsteps - 1):\n",
    "    if xstates[tidx] == 0:\n",
    "        pi[0] += tjumps[tidx + 1] - tjumps[tidx]\n",
    "    elif xstates[tidx] == 1:\n",
    "        pi[1] += tjumps[tidx + 1] - tjumps[tidx]\n",
    "    elif xstates[tidx] == 2:\n",
    "        pi[2] += tjumps[tidx + 1] - tjumps[tidx]\n",
    "\n",
    "# normalize stationary distribution pi\n",
    "pi = pi / tjumps[nsteps - 1]\n",
    "\n",
    "print(\"The empirical stationary distribution is pi =\", pi, \".\")"
   ]
  },
  {
   "cell_type": "markdown",
   "metadata": {},
   "source": [
    "Compare these results with the theoretical stationary distribution:"
   ]
  },
  {
   "cell_type": "code",
   "execution_count": 103,
   "metadata": {},
   "outputs": [
    {
     "name": "stdout",
     "output_type": "stream",
     "text": [
      "The theoretical stationary distribution is P = [0.7058823529411764, 0.1764705882352941, 0.1176470588235294] .\n"
     ]
    },
    {
     "data": {
      "image/png": "[encoded data removed]",
      "text/plain": [
       "<Figure size 432x288 with 1 Axes>"
      ]
     },
     "metadata": {
      "needs_background": "light"
     },
     "output_type": "display_data"
    }
   ],
   "source": [
    "# enter the values of lambda, mu_1, mu_2 and p\n",
    "lmbda = \n",
    "mu1 = \n",
    "mu2 = \n",
    "p = \n",
    "\n",
    "P = [ , , ] # ENTER the theoretical stationary distribution P\n",
    "\n",
    "print(\"The theoretical stationary distribution is P =\", P, \".\")\n",
    "\n",
    "# visually compare empirical with theoretical distr.\n",
    "opacity = 0.4\n",
    "bar_width = 0.35\n",
    "\n",
    "plt.xlabel('k')\n",
    "plt.ylabel('pi[k]')\n",
    "plt.xticks(range(3),(\"0\", \"1\", \"2\"))\n",
    "plt.bar(np.arange(3)+ bar_width, pi, bar_width, align=\"center\", alpha=opacity, color=\"b\", label=\"empirical\")\n",
    "plt.bar(range(3), P, bar_width, align=\"center\", alpha=opacity, color=\"r\", label=\"theoretical\")\n",
    "plt.legend()\n",
    "plt.tight_layout()\n",
    "plt.show()"
   ]
  },
  {
   "cell_type": "markdown",
   "metadata": {},
   "source": [
    "# Homework Problems"
   ]
  },
  {
   "cell_type": "markdown",
   "metadata": {},
   "source": [
    "1. Simulate the chain corresponding with Problems 1-3. "
   ]
  },
  {
   "cell_type": "code",
   "execution_count": null,
   "metadata": {},
   "outputs": [],
   "source": [
    "# note to TA, for the solution, simply write the matrix Q"
   ]
  },
  {
   "cell_type": "markdown",
   "metadata": {},
   "source": [
    "2. Simulate a birth death process with birth rate $\\lambda$ and death rate $\\mu$ (the state space is infinite so we cannot define the matrix $Q$, but we can still use a similar algorithm by simulating the time of the next jump and if it is a birth or a death event)."
   ]
  },
  {
   "cell_type": "code",
   "execution_count": null,
   "metadata": {},
   "outputs": [],
   "source": []
  }
 ],
 "metadata": {
  "kernelspec": {
   "display_name": "Python 3",
   "language": "python",
   "name": "python3"
  },
  "language_info": {
   "codemirror_mode": {
    "name": "ipython",
    "version": 3
   },
   "file_extension": ".py",
   "mimetype": "text/x-python",
   "name": "python",
   "nbconvert_exporter": "python",
   "pygments_lexer": "ipython3",
   "version": "3.7.6"
  }
 },
 "nbformat": 4,
 "nbformat_minor": 4
}
