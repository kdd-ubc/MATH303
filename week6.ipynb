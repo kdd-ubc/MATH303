{
 "cells": [
  {
   "cell_type": "markdown",
   "metadata": {},
   "source": [
    "# Week 6: Branching Processes\n",
    "\n",
    "This week, we introduce and study the Galton Watson process, which is a fundamental example of so-called *branching process*. This process can be seen as a model for counting a population of individuals over generations.\n",
    "\n",
    "For such a process, we associate a *reproduction law*, which describes the probability distribution of offspring from each individual. Following the example introduced in the video presentation (see link on the course webpage), let us consider the uniform distribution on $\\left\\{0,1,2,3 \\right\\}$ as our reproduction law $\\pi$."
   ]
  },
  {
   "cell_type": "code",
   "execution_count": null,
   "metadata": {},
   "outputs": [],
   "source": [
    "import numpy as np\n",
    "# Change S to change the support of pi\n",
    "S = [0,1,2,3]\n",
    "# Define the distribution pi here:\n",
    "pi =  #ADD SOLUTION HERE\n"
   ]
  },
  {
   "cell_type": "markdown",
   "metadata": {},
   "source": [
    "We now simulate the branching process for 10 generations. For $n\\geq 0$, the population size at time $n+1$ is $Z_{n+1} = \\sum_{i=0}^{Z_n}X_{n,i}$ if $Z_n\\geq 1$, and 0 if $Z_n=0$, where the $X_{n,i}$ are iid with law $\\pi$. Complete and run the following cell to obtain one trajectory:"
   ]
  },
  {
   "cell_type": "code",
   "execution_count": null,
   "metadata": {},
   "outputs": [],
   "source": [
    "# Specify the number of generations\n",
    "N =   #ADD SOLUTION HERE\n",
    "\n",
    "# Specify the initial population size  \n",
    "Z0 =  #ADD SOLUTION HERE\n",
    "Z=[]\n",
    "Z.append(Z0)\n",
    "\n",
    "# Run the process up until N steps or until \n",
    "# there are no individuals for some generation.\n",
    "i=0\n",
    "while (i<= N) and (Z[-1] > 0):\n",
    "    # Creating the next generation\n",
    "    # https://numpy.org/doc/stable/reference/random/generated/numpy.random.choice.html\n",
    "    # We look at the offspring of each individual of the last generation having been computed.\n",
    "    next_gen = np.sum(np.random.choice(S, Z[-1], p = pi))\n",
    "    Z.append(next_gen)\n",
    "    # Increment counter\n",
    "    i+=1\n",
    "    \n",
    "# Plot the trajectory obtained    \n",
    "import matplotlib.pyplot as plt\n",
    "fig, ax = plt.subplots(1, 1, figsize=(8, 4))\n",
    "ax.set_xlabel(\"t [generations]\")\n",
    "ax.set_ylabel(\"Number of individuals at t\")\n",
    "ax.plot(Z, lw=2)"
   ]
  },
  {
   "cell_type": "markdown",
   "metadata": {},
   "source": [
    "In the course, we study the probability of extinction or survival associated with the process. By simulating the process many times, we can also estimate these quantities. The following code runs the process for N generations and over M times. By reading the code, can you tell what empirical probability is extracted?"
   ]
  },
  {
   "cell_type": "code",
   "execution_count": null,
   "metadata": {},
   "outputs": [],
   "source": [
    "import numpy as np\n",
    "Ntraj= 100 #specify the number of trajectories (Ntraj=1 for a single trajectory)\n",
    "Ngen= 10 #specify the number of generations (be careful to not select Ngen too large when your the population explodes in time)\n",
    "\n",
    "E = [] #create an array to record events\n",
    "for m in range(Ntraj):\n",
    "    \n",
    "    Z = [] # Record the total number of indiviuals in each generation\n",
    "    Z.append(1) # Initialize with Z0=1\n",
    "\n",
    "    # Run the process \n",
    "    i=0\n",
    "    while (i<= Ngen-1) and (Z[-1] > 0):\n",
    "        # Creating the next generation\n",
    "        # https://numpy.org/doc/stable/reference/random/generated/numpy.random.choice.html\n",
    "        # We look at the offspring of each individual of the last generation computed.\n",
    "        next_gen = np.sum(np.random.choice(S, Z[-1], pi))\n",
    "        Z.append(next_gen)\n",
    "        # Increment counter\n",
    "        i+=1\n",
    "    \n",
    "    E.append((Z[-1] == 0)) # QUESTION: what do we record here?\n",
    "    \n",
    "# Computing an empirical probability from an array of 0's and 1's.\n",
    "p = np.sum(E)/Ntraj\n",
    "print(\"p = \", p)"
   ]
  },
  {
   "cell_type": "markdown",
   "metadata": {},
   "source": [
    "We saw in class how to analyze this process analytically. In particular, the probability of extinction is a fixed point of the generating function of the reproduction law. Calculate and enter the generating function. Running the code will plot the function and the line y=x. Find the fixed point and compare with the previous value you found"
   ]
  },
  {
   "cell_type": "code",
   "execution_count": null,
   "metadata": {},
   "outputs": [],
   "source": [
    "import matplotlib.pyplot as plt\n",
    "import numpy as np\n",
    "\n",
    "x = np.linspace(0, 1, num=100)\n",
    "# Enter the generating function G(x) here\n",
    "G=  #ADD SOLUTION HERE\n",
    "plt.plot(x, x)\n",
    "plt.plot(x,G)"
   ]
  },
  {
   "cell_type": "markdown",
   "metadata": {},
   "source": [
    "Using the code above, try to implement and simulate the branching processes for different reproduction laws. In particular, look at what happens to the probability of extinction when the mean of the reproduction law is <,= or >1.\n",
    "To sample the offsprings from other distributions, take a look at the different functions available in the numpy random library:\n",
    "https://numpy.org/doc/1.16/reference/routines.random.html"
   ]
  },
  {
   "cell_type": "markdown",
   "metadata": {},
   "source": [
    "## Homework Problem (Complete the above part first)\n",
    "\n",
    "5.1. The goal is to simulate, estimate the probability of extinction for other reproduction laws and compare with the theoretical results (see Problem 2). We can use and edit the code above to do so:"
   ]
  },
  {
   "cell_type": "code",
   "execution_count": null,
   "metadata": {},
   "outputs": [],
   "source": [
    "import numpy as np\n",
    "import matplotlib.pyplot as plt\n",
    "\n",
    "Ntraj=  #specify the number of trajectories (Ntraj=1 for a single trajectory)\n",
    "Ngen=  #specify the number of generations (be careful to not select Ngen too large when the population explodes in time)\n",
    "S = []\n",
    "\n",
    "for n in range(Ntraj):\n",
    "    \n",
    "    Z=[]\n",
    "    Z.append(1) # Initialize with Z0=1\n",
    "\n",
    "    # Run the process \n",
    "    i=0\n",
    "    while (i<= Ngen-1) and (Z[-1] > 0):\n",
    "        \n",
    "        # Creating the next generation\n",
    "        #if needed, check https://numpy.org/doc/1.16/reference/routines.random.html\n",
    "        #if you need to use np.random.choice , you may need to define an array of probabilities before\n",
    "        next_gen =  # ADD SOLUTION HERE TO SAMPLE FROM THE REPRODUCTION LAW \n",
    "        Z.append(next_gen)\n",
    "        # Increment counter\n",
    "        i+=1\n",
    "    \n",
    "    S.append((Z[-1] == 0))\n",
    "    \n",
    "# Computing an empirical probability from an array of 0's and 1's.\n",
    "p_e = np.sum(S)/Ntraj\n",
    "print(\"p_e = \", p_e)"
   ]
  },
  {
   "cell_type": "markdown",
   "metadata": {},
   "source": [
    "5.2. We want to extract the expectation and variance. We again use the previous code"
   ]
  },
  {
   "cell_type": "code",
   "execution_count": null,
   "metadata": {},
   "outputs": [],
   "source": [
    "import numpy as np\n",
    "import matplotlib.pyplot as plt\n",
    "\n",
    "Ntraj=  #specify the number of trajectories (Ntraj=1 for a single trajectory)\n",
    "Ngen=  #specify the number of generations (be careful to not select Ngen too large when your the population explodes in time)\n",
    "Z_array = np.zeros((Ntraj, Ngen), dtype=int) #Record all the trajectories\n",
    "\n",
    "for n in range(Ntraj):\n",
    "    \n",
    "    Z=[]\n",
    "    Z.append(1) # Initialize with Z0=1\n",
    "\n",
    "    # Run the process \n",
    "    i=1\n",
    "    while (i<= Ngen-1) and (Z[-1] > 0):\n",
    "        # Creating the next generation\n",
    "        next_gen =  # ADD SOLUTION HERE\n",
    "        Z.append(next_gen)\n",
    "        # Increment counter\n",
    "        i+=1\n",
    "    \n",
    "    Z_array[n,:len(Z)]=Z    \n",
    "        \n",
    "## ADD SOME CODE HERE TO EXTRACT THE MEAN AND VARIANCE : \n",
    "#see for example https://numpy.org/doc/stable/reference/generated/numpy.mean.html\n",
    "meanZ=  #ADD SOLUTION HERE\n",
    "varianceZ=  #ADD SOLUTION HERE\n",
    "\n",
    "# plot the mean and variance as a function of n\n",
    "import matplotlib.pyplot as plt\n",
    "x = np.arange(Ngen)\n",
    "theoretical_mean =  #ADD SOLUTION HERE (see Problem 3) \n",
    "theoretical_var = #ADD SOLUTION HERE (see Problem 3) \n",
    "\n",
    "fig1, ax1 = plt.subplots(1, 1, figsize=(8, 4))\n",
    "ax1.set_xlabel(\"t [generations]\")\n",
    "ax1.set_ylabel(\"mean\")\n",
    "ax1.plot(x,meanZ)\n",
    "ax1.plot(x,theoretical_mean)\n",
    "\n",
    "fig2, ax2 = plt.subplots(1, 1, figsize=(8, 4))\n",
    "ax2.set_xlabel(\"t [generations]\")\n",
    "ax2.set_ylabel(\"variance\")\n",
    "ax2.plot(x,varianceZ)\n",
    "ax1.plot(x,theoretical_var)"
   ]
  },
  {
   "cell_type": "markdown",
   "metadata": {},
   "source": [
    "5.3. We implement now $Z_{n+1}=I_n + \\sum_{i=1}^{Z_n} X_{n,i}$ where the $Z_n$ are i.i. $Binomial(1,p)$-distributed and the $I_n$ are i.i. $Poisson(\\mu)$-distributed. Here $0<p<1$, $\\mu>0$ and the $Z_n$ are independent of the $I_n$. Furthmore, assume that $Z_0=1$ and $I_0=0$. To do so, we can modify the original branching process"
   ]
  },
  {
   "cell_type": "code",
   "execution_count": null,
   "metadata": {},
   "outputs": [],
   "source": [
    "import numpy as np\n",
    "import matplotlib.pyplot as plt\n",
    "import scipy.stats as st\n",
    "\n",
    "Ntraj=  #specify the number of trajectories (Ntraj=1 for a single trajectory)\n",
    "Ngen=  #specify the number of generations (be careful to not select Ngen too large when your the population explodes in time)\n",
    "Z_array = np.zeros((Ntraj, Ngen), dtype=int) #Record all the trajectories\n",
    "\n",
    "p =  #Specify the parameter of the binomial e.g. 1/4.\n",
    "mu =  #Specify the parameter of the Poisson e.g. 1.\n",
    "\n",
    "for n in range(Ntraj):\n",
    "    \n",
    "    Z=[]\n",
    "    Z.append(1) # Initialize\n",
    "\n",
    "    # Run the process \n",
    "    for i in range(Ngen-1):\n",
    "        # Creating the next generation\n",
    "        next_gen =  # ADD SOLUTION HERE\n",
    "        immigrants =  #ADD SOLUTION HERE\n",
    "        Z.append( ) #ADD SOLUTION HERE: what should be between the parentheses?\n",
    "        # Increment counter\n",
    "        i+=1\n",
    "    \n",
    "    Z_array[n,:len(Z)]=Z \n",
    "\n",
    "# Plot the Normalized histogram and compare with a Poisson pmf\n",
    "#See https://docs.scipy.org/doc/scipy/reference/generated/scipy.stats.poisson.html\n",
    "m=max(Z_array[:,-1])\n",
    "fig, ax = plt.subplots(1, 1, figsize=(8, 4))\n",
    "ax.set_xlabel(\"histogram bin\")\n",
    "ax.set_ylabel(\"Zn\")\n",
    "plt.hist(Z_array[:,-1],bins=np.arange(m), density=True, width=0.1)\n",
    "poisson_pmf =  #ADD SOLUTION HERE\n",
    "plt.bar(np.arange(m)+0.2, poisson_pmf,color='r',width = 0.1)"
   ]
  }
 ],
 "metadata": {
  "kernelspec": {
   "display_name": "Python 3",
   "language": "python",
   "name": "python3"
  },
  "language_info": {
   "codemirror_mode": {
    "name": "ipython",
    "version": 3
   },
   "file_extension": ".py",
   "mimetype": "text/x-python",
   "name": "python",
   "nbconvert_exporter": "python",
   "pygments_lexer": "ipython3",
   "version": "3.7.6"
  }
 },
 "nbformat": 4,
 "nbformat_minor": 4
}
