{
 "cells": [
  {
   "cell_type": "markdown",
   "metadata": {},
   "source": [
    "## Week 2: Gambler's Ruin Problem and Mean Time Spent in Transient States \n",
    "\n",
    "* Simulating and analyzing the MC associated with the Gambler's Ruin Problem\n",
    "* Studying the Mean TIme in Transient States (for Practice Problem)"
   ]
  },
  {
   "cell_type": "code",
   "execution_count": 1,
   "metadata": {},
   "outputs": [],
   "source": [
    "import numpy as np\n",
    "import matplotlib.pyplot as plt\n",
    "%matplotlib inline"
   ]
  },
  {
   "cell_type": "markdown",
   "metadata": {},
   "source": [
    "### The Gambler's Ruin Problem"
   ]
  },
  {
   "cell_type": "markdown",
   "metadata": {},
   "source": [
    "By modifying the 1D Random Walk (cf. week 1), we can simulate a trajectory of the Markov Chain associated with the Gambler's Ruin Problem"
   ]
  },
  {
   "cell_type": "markdown",
   "metadata": {},
   "source": [
    "Initialization"
   ]
  },
  {
   "cell_type": "code",
   "execution_count": 2,
   "metadata": {},
   "outputs": [],
   "source": [
    "x = []\n",
    "# starting with $25\n",
    "x.append(25)\n",
    "# amount of money of the bank\n",
    "N = 50"
   ]
  },
  {
   "cell_type": "markdown",
   "metadata": {},
   "source": [
    "Simulation"
   ]
  },
  {
   "cell_type": "code",
   "execution_count": 3,
   "metadata": {},
   "outputs": [],
   "source": [
    "# probability of winning a bet:\n",
    "p = 0.5\n",
    "\n",
    "while 0 < x[-1] < N:\n",
    "    if np.random.rand() <= p:\n",
    "        # winning $1 bet\n",
    "        x.append(x[-1] + 1) \n",
    "    else:\n",
    "        # losing $1 bet\n",
    "        x.append(x[-1] - 1) "
   ]
  },
  {
   "cell_type": "markdown",
   "metadata": {},
   "source": [
    "Plotting the outcome of the simulation"
   ]
  },
  {
   "cell_type": "code",
   "execution_count": 4,
   "metadata": {},
   "outputs": [
    {
     "data": {
      "text/plain": [
       "[<matplotlib.lines.Line2D at 0x7fef93707100>]"
      ]
     },
     "execution_count": 4,
     "metadata": {},
     "output_type": "execute_result"
    },
    {
     "data": {
      "image/png": "[encoded data removed]",
      "text/plain": [
       "<Figure size 576x288 with 1 Axes>"
      ]
     },
     "metadata": {
      "needs_background": "light"
     },
     "output_type": "display_data"
    }
   ],
   "source": [
    "fig, ax = plt.subplots(1, 1, figsize=(8, 4))\n",
    "ax.set_xlabel(\"t [bets]\")\n",
    "ax.set_ylabel(\"amount of money [$]\")\n",
    "ax.plot(x, lw=2)"
   ]
  },
  {
   "cell_type": "markdown",
   "metadata": {},
   "source": [
    "By simulating the process many times, let's see what's the probability of ruin. We'll see in class how we can find this analyically."
   ]
  },
  {
   "cell_type": "code",
   "execution_count": 5,
   "metadata": {},
   "outputs": [
    {
     "name": "stdout",
     "output_type": "stream",
     "text": [
      "Probability of ruin is approximately 0.207\n"
     ]
    }
   ],
   "source": [
    "# modify any of these parameters to see what happens\n",
    "nrealizations = 1000\n",
    "p = 0.50      # P(winning a bet)\n",
    "N = 50      # money of bank\n",
    "x0 = 40      # initial state\n",
    "\n",
    "realizations = []\n",
    "\n",
    "for r in range(nrealizations):\n",
    "    x = [x0]\n",
    "    while 0 < x[-1] < N:\n",
    "        if np.random.rand() <= p: # (note that Lebesgue_measure(np.random.rand() = p) = 0)\n",
    "            # winning $1 bet\n",
    "            x.append(x[-1] + 1) \n",
    "        else:\n",
    "            # losing $1 bet\n",
    "            x.append(x[-1] - 1)\n",
    "    realizations.append(x)\n",
    "\n",
    "# count the times of ruin\n",
    "nruins = 0\n",
    "for x in realizations:\n",
    "    if x[-1] == 0:\n",
    "        nruins += 1\n",
    "        \n",
    "print(\"Probability of ruin is approximately\", nruins / nrealizations)"
   ]
  },
  {
   "cell_type": "markdown",
   "metadata": {},
   "source": [
    "We now study the transient states (cf. lecture) {1, ..., N-1} and the probability of revisiting a state. For a state i, the following block allows to extract, from running M simulations over n steps with initial state i, what is the fraction of trajectories such that i was revisited. We set n large (1000), so the results of the simulations approximate the probability of return."
   ]
  },
  {
   "cell_type": "code",
   "execution_count": 6,
   "metadata": {},
   "outputs": [
    {
     "name": "stdout",
     "output_type": "stream",
     "text": [
      "Probability of revisiting until nth step is approximately 0.932\n"
     ]
    }
   ],
   "source": [
    "# modify any of these parameters again to see what happens\n",
    "M = 1000      # number of simulations\n",
    "n = 100       # number of steps\n",
    "p = 0.49      # P(winning a bet)\n",
    "N = 50      # money of bank\n",
    "i = 25       # initial state\n",
    "\n",
    "revisited = np.zeros(M)\n",
    "for r in range(M):\n",
    "    x = [i]\n",
    "    step = 1\n",
    "    while 0 < x[-1] < N and step <= n and revisited[r] != 1:\n",
    "        if np.random.rand() <= p: \n",
    "            # winning $1 bet\n",
    "            x.append(x[-1] + 1) \n",
    "        else:\n",
    "            # losing $1 bet\n",
    "            x.append(x[-1] - 1)\n",
    "        if x[-1] == i:\n",
    "            revisited[r] = 1\n",
    "        step += 1\n",
    "            \n",
    "print(\"Probability of revisiting until nth step is approximately\", np.sum(revisited) / M)"
   ]
  },
  {
   "cell_type": "markdown",
   "metadata": {},
   "source": [
    "Let's also study the average number of times that a trajectory visited state i. The following block allows to extract this value"
   ]
  },
  {
   "cell_type": "code",
   "execution_count": 7,
   "metadata": {},
   "outputs": [
    {
     "name": "stdout",
     "output_type": "stream",
     "text": [
      "Mean number of visiting i = 25 is 21.834\n"
     ]
    }
   ],
   "source": [
    "# modify any of these parameters again to see what happens\n",
    "M = 1000      # number of simulations\n",
    "n = 1000       # number of steps\n",
    "p = 0.49      # P(winning a bet)\n",
    "N = 50      # money of bank\n",
    "i = 25      # initial state\n",
    "\n",
    "visited = np.ones(M)\n",
    "for r in range(M):\n",
    "    x = [i]\n",
    "    step = 1\n",
    "    while 0 < x[-1] < N and step <= n:\n",
    "        if np.random.rand() <= p:\n",
    "            # winning $1 bet\n",
    "            x.append(x[-1] + 1) \n",
    "        else:\n",
    "            # losing $1 bet\n",
    "            x.append(x[-1] - 1)\n",
    "        if x[-1] == i:\n",
    "            visited[r] += 1\n",
    "        step += 1\n",
    "\n",
    "print(\"Mean number of visiting i =\", i, \"is\", np.sum(visited) / M)"
   ]
  },
  {
   "cell_type": "markdown",
   "metadata": {},
   "source": [
    "By experimenting with this multiple times, let's compare the results for different possible values of p"
   ]
  },
  {
   "cell_type": "code",
   "execution_count": 8,
   "metadata": {},
   "outputs": [
    {
     "data": {
      "text/plain": [
       "[<matplotlib.lines.Line2D at 0x7fef9361ec40>]"
      ]
     },
     "execution_count": 8,
     "metadata": {},
     "output_type": "execute_result"
    },
    {
     "data": {
      "image/png": "[encoded data removed]",
      "text/plain": [
       "<Figure size 576x288 with 1 Axes>"
      ]
     },
     "metadata": {
      "needs_background": "light"
     },
     "output_type": "display_data"
    }
   ],
   "source": [
    "# Varying p\n",
    "p_array = np.linspace(0.02, 0.98, num=50)\n",
    "\n",
    "M = 1000      # number of simulations\n",
    "n = 1000       # number of steps\n",
    "N = 50      # money of bank\n",
    "i = 25       # initial state\n",
    "\n",
    "prob_revis = np.zeros(len(p_array))\n",
    "mean_nvisit = np.zeros(len(p_array))\n",
    "for idx, p in enumerate(p_array):\n",
    "    visited = np.ones(M)\n",
    "    for r in range(M):\n",
    "        x = [i]\n",
    "        step = 1\n",
    "        while 0 < x[-1] < N and step <= n:\n",
    "            if np.random.rand() <= p:\n",
    "                # winning $1 bet\n",
    "                x.append(x[-1] + 1) \n",
    "            else:\n",
    "                # losing $1 bet\n",
    "                x.append(x[-1] - 1)\n",
    "            if x[-1] == i:\n",
    "                visited[r] += 1\n",
    "            step += 1\n",
    "    prob_revis[idx] = len(np.where(visited > 1)[0]) / M\n",
    "    mean_nvisit[idx] = np.sum(visited) / M\n",
    "\n",
    "fig1, ax1 = plt.subplots(1, 1, figsize=(8, 4))\n",
    "ax1.set_xlabel(\"Prob. of revisiting until nth step\")\n",
    "ax1.set_ylabel(\"mean number of visit\")\n",
    "ax1.plot(prob_revis, mean_nvisit, lw=0, marker=\"o\")\n"
   ]
  },
  {
   "cell_type": "markdown",
   "metadata": {},
   "source": [
    "These simulations suggest these two quantities are related. We'll prove and generalize this more precisely in class!"
   ]
  },
  {
   "cell_type": "markdown",
   "metadata": {},
   "source": [
    "### Mean Time in Transient States"
   ]
  },
  {
   "cell_type": "markdown",
   "metadata": {},
   "source": [
    "We consider here a finite state Markov Chain with a set of transient states numbered as $T= \\left\\{ 1, 2, \\ldots, t \\right\\} $.\n",
    "\n",
    "Let us define the transition matrix of transient states $\\mathbf{P}_T$, such that $(\\mathbf{P}_T)_{ij} = p_{ij} = P(X_1 =j \\ | \\ X_0=i)$ ($\\mathbf{P}_T$ is a sub-matrix of the original full transition matrix of the Markov Chain). \n",
    "\n",
    "We also introduce the matrix $\\mathbf{S}$ of size $t$, such that $(\\mathbf{S})_{ij} = s_{ij}$ is the expected number of times where the Markov Chain is in state $j$, given it starts in state $i$. By conditioning on the initial transition (similarly as what we did when studying the probability of ruin in the Gambler's ruin problem), one can show that \n",
    "\n",
    "\\begin{equation}\n",
    "s_{ij} = \\delta_{ij} + \\sum_{k=1}^t p_{ik} s_{kj},\n",
    "\\end{equation}\n",
    "which in matrix notation can be written as\n",
    "\\begin{equation}\n",
    "\\mathbf{S} = \\mathbf{I} + \\mathbf{P}_T \\mathbf{S},\n",
    "\\end{equation} \n",
    "so \n",
    "\\begin{equation}\n",
    "\\mathbf{S} = (\\mathbf{I} - \\mathbf{P}_T)^{-1}\n",
    "\\end{equation}"
   ]
  },
  {
   "cell_type": "markdown",
   "metadata": {},
   "source": [
    "For a given matrix $\\mathbf{P}_T$, the following block computes $\\mathbf{S}$ (you can use it to solve practice problems, or find the probability of return $f_i$ associated with transient states (cf. properties of transience seen in class and section 4.6 in Ross textbook))."
   ]
  },
  {
   "cell_type": "code",
   "execution_count": 9,
   "metadata": {},
   "outputs": [],
   "source": [
    "# specify your PT\n",
    "# PT = ...\n",
    "\n",
    "# S = np.linalg.inv(np.identity(PT.shape[0]) - PT)"
   ]
  },
  {
   "cell_type": "markdown",
   "metadata": {},
   "source": [
    "# Problem 5 - Solution"
   ]
  },
  {
   "cell_type": "markdown",
   "metadata": {},
   "source": [
    "First, we import the Markov chain class from Notebook 1"
   ]
  },
  {
   "cell_type": "code",
   "execution_count": 10,
   "metadata": {},
   "outputs": [],
   "source": [
    "class MarkovChain(object):\n",
    "    def __init__(self, transition_matrix, states):\n",
    "        \"\"\"\n",
    "        Initialize the MarkovChain instance.\n",
    " \n",
    "        Parameters\n",
    "        ----------\n",
    "        transition_matrix: 2-D array\n",
    "            A 2-D array representing the probabilities of change of \n",
    "            state in the Markov Chain.\n",
    " \n",
    "        states: 1-D array \n",
    "            An array representing the states of the Markov Chain. It\n",
    "            needs to be in the same order as transition_matrix.\n",
    "        \"\"\"\n",
    "        self.transition_matrix = np.atleast_2d(transition_matrix)\n",
    "        self.states = states\n",
    "        self.index_dict = {self.states[index]: index for index in \n",
    "                           range(len(self.states))}\n",
    "        self.state_dict = {index: self.states[index] for index in\n",
    "                           range(len(self.states))}\n",
    " \n",
    "    def next_state(self, current_state):\n",
    "        \"\"\"\n",
    "        Returns the state of the random variable at the next time \n",
    "        instance.\n",
    " \n",
    "        Parameters\n",
    "        ----------\n",
    "        current_state: str\n",
    "            The current state of the system.\n",
    "        \"\"\"\n",
    "        return np.random.choice(\n",
    "         self.states, \n",
    "         p=self.transition_matrix[self.index_dict[current_state], :]\n",
    "        )\n",
    " \n",
    "    def generate_states(self, current_state, no=10):\n",
    "        \"\"\"\n",
    "        Generates the next states of the system.\n",
    " \n",
    "        Parameters\n",
    "        ----------\n",
    "        current_state: str\n",
    "            The state of the current random variable.\n",
    " \n",
    "        no: int\n",
    "            The number of future states to generate.\n",
    "        \"\"\"\n",
    "        future_states = []\n",
    "        for i in range(no):\n",
    "            next_state = self.next_state(current_state)\n",
    "            future_states.append(next_state)\n",
    "            current_state = next_state\n",
    "        return future_states"
   ]
  },
  {
   "cell_type": "markdown",
   "metadata": {},
   "source": [
    "## 1a.  Probabilities of return and time spent in transient states"
   ]
  },
  {
   "cell_type": "code",
   "execution_count": 11,
   "metadata": {},
   "outputs": [],
   "source": [
    "#Initialising our Markov chain\n",
    "\n",
    "# We first copy the transition matrix from Problem 1 - Week 2\n",
    "transition_matrix = [[1/2, 1/2, 0, 0, 0, 0], \n",
    "                     [1/2, 1/2, 0, 0, 0, 0],\n",
    "                     [0, 0, 1/2, 0, 1/2, 0],\n",
    "                     [1/4, 1/4, 0, 0, 1/4, 1/4],\n",
    "                     [0, 0, 1/2, 0, 1/2, 0],\n",
    "                     [0, 1/3, 0, 1/3, 1/3, 0]]\n",
    "markov_chain = MarkovChain(transition_matrix=transition_matrix, \n",
    "                            states=['1', '2', '3', '4', '5', '6']) # Name your states here"
   ]
  },
  {
   "cell_type": "markdown",
   "metadata": {},
   "source": [
    "Introduce some useful functions"
   ]
  },
  {
   "cell_type": "code",
   "execution_count": 12,
   "metadata": {},
   "outputs": [],
   "source": [
    "def run_simulations_markov_chain(markov_chain, nrealizations, nsteps, initial_state):\n",
    "    sim_arr = np.zeros((nsteps, nrealizations))\n",
    "\n",
    "    #Running many realizations\n",
    "    for r in range(nrealizations):\n",
    "        simulation= markov_chain.generate_states(current_state=initial_state, \n",
    "                                              no=nsteps)  \n",
    "        sim_arr[:, r] = np.array(simulation)\n",
    "    return sim_arr\n",
    "\n",
    "def state_statistics(markov_chain, nrealizations, nsteps, initial_state):\n",
    "    # Return the empirical probability of return and\n",
    "    # the number of visits of some state \n",
    "    # starting from that state. \n",
    "    # This is only interesting when the state is transient.\n",
    "    \n",
    "    \n",
    "    # Get the simulation results\n",
    "    sim_arr = run_simulations_markov_chain(markov_chain, nrealizations, nsteps, initial_state)\n",
    "    #Here we \"call\" i the transient initial_state\n",
    "    N_i = 0\n",
    "    f_i = 0\n",
    "\n",
    "    hist = {1:0} # Initialize the histogram as a dictionnary\n",
    "    sim_arr_transpose = np.transpose(sim_arr)\n",
    "    for x in sim_arr_transpose:\n",
    "        occurences_i = np.count_nonzero(x == int(initial_state))# If occurences is 0 then the state is not re-visited\n",
    "        N_i = N_i + 1 + occurences_i # Add 1 to take into account the intial step X_0 = i\n",
    "        does_return = (occurences_i>0) \n",
    "        f_i = f_i + does_return\n",
    "        \n",
    "        if 1+occurences_i in hist:\n",
    "            hist[1+occurences_i] += 1\n",
    "        else:\n",
    "            hist[1+occurences_i] = 1\n",
    "    return [N_i/nrealizations, f_i/nrealizations,hist]\n",
    "        "
   ]
  },
  {
   "cell_type": "code",
   "execution_count": 13,
   "metadata": {},
   "outputs": [],
   "source": [
    "# Compute the probability of returning \n",
    "# at some point to state i when starting \n",
    "# from state i.\n",
    "\n",
    "# Choose a transient state\n",
    "initial_state = '4' # in {'4','6'}\n",
    "nrealizations = 1000\n",
    "nsteps = 20\n",
    "\n",
    "# Get its statistics\n",
    "statistics = state_statistics(markov_chain, nrealizations, nsteps, initial_state)"
   ]
  },
  {
   "cell_type": "code",
   "execution_count": 14,
   "metadata": {},
   "outputs": [
    {
     "name": "stdout",
     "output_type": "stream",
     "text": [
      "The empirical average number of visits to 4 starting from 4 is 1.079\n",
      "The empirical probability of returning to 4 starting from 4 is 0.072\n"
     ]
    },
    {
     "data": {
      "image/png": "[encoded data removed]",
      "text/plain": [
       "<Figure size 432x288 with 1 Axes>"
      ]
     },
     "metadata": {
      "needs_background": "light"
     },
     "output_type": "display_data"
    }
   ],
   "source": [
    "\n",
    "# Print the results\n",
    "print(\"The empirical average number of visits to \" + initial_state + \n",
    "      \" starting from \" + initial_state + \" is\", statistics[0])\n",
    "print(\"The empirical probability of returning to \" + initial_state + \n",
    "      \" starting from \" + initial_state + \" is\", statistics[1])\n",
    "hist = statistics[2]\n",
    "\n",
    "# renormalize the probability distribution\n",
    "total = sum(hist.values())\n",
    "factor = 1/total\n",
    "normalized_hist =  {key:value*factor for key,value in hist.items()}\n",
    "\n",
    "plt.title('empirical distribution of the number of visits to a transient state')\n",
    "plt.bar(list(normalized_hist.keys()), normalized_hist.values(), color='g', width=0.4)\n",
    "plt.show()"
   ]
  },
  {
   "cell_type": "markdown",
   "metadata": {},
   "source": [
    "## 1b. Theoretical value and comparison with the simulations"
   ]
  },
  {
   "cell_type": "markdown",
   "metadata": {},
   "source": [
    "We let $N_i$ be the random variable equal to the time spent in state $i$. We know from the the theoretical discussion and proof above that for any transient state of some discrete and finite Markov chain $X$, the following holds,\n",
    "\\begin{equation}\n",
    "\\mathbf{S} = (\\mathbf{I} - \\mathbf{P}_T)^{-1}\n",
    "\\end{equation}\n",
    "\n",
    "Where $S_{ij} = \\mathbb{E}(N_j \\mid X_0 = i)$ and ${P_T}_{i,j}$ are restricted to the subset of transient states. This enables us in particular to determine $\\mathbb{E}(N_i \\mid X_0 = i)$.\n",
    "\n",
    "Here, we are interested in determining the value of $f_i = \\mathbb{P}(X_n = i,\\text{ for some } n>0  \\mid X_0 = i)$ that is the probability of never coming back to $i$ when starting from $i$. But we know from the lectures that by the geometric law of $N_i$ the following holds \n",
    "\\begin{equation}\n",
    "        \\mathbb{E}(N_i \\mid X_0 = i) = \\frac{1}{1- f_i}.\n",
    "\\end{equation}\n",
    "\n",
    "And thus that,\n",
    "\\begin{equation}\n",
    "        f_i = 1- \\frac{1}{\\mathbb{E}(N_i \\mid X_0 = i)}.\n",
    "\\end{equation}\n",
    "\n",
    "Then, once that $f_i$ is deduced, we are almost done with determining the law of $N_i$ for $X$ started at $i$ since it satisfies for $k \\geq 1$,\n",
    "\n",
    "\\begin{equation}\n",
    "        \\mathbb{P}(N_i = k \\mid X_0 = i) = (1-f_i){f_i}^{k-1}.\n",
    "\\end{equation}\n"
   ]
  },
  {
   "cell_type": "markdown",
   "metadata": {},
   "source": [
    "We are now ready to apply this strategy in our particular setting."
   ]
  },
  {
   "cell_type": "code",
   "execution_count": 15,
   "metadata": {},
   "outputs": [
    {
     "name": "stdout",
     "output_type": "stream",
     "text": [
      "The matrix S we are looking for is:\n",
      "[[1.09090909 0.27272727]\n",
      " [0.36363636 1.09090909]]\n",
      "So the value of f_4 is 0.08333333333333326\n"
     ]
    }
   ],
   "source": [
    "# specify your PT\n",
    "# This is the submatrix of P\n",
    "# containing the transient states only\n",
    "# Since only {4,6} are transient, this \n",
    "# is a 2x2 matrix.\n",
    "\n",
    "PT = np.matrix([[0,1/4],\n",
    "                [1/3,0]])\n",
    "\n",
    "S = np.linalg.inv(np.identity(PT.shape[0]) - PT)\n",
    "print(\"The matrix S we are looking for is:\")\n",
    "print(S)\n",
    "\n",
    "# We can consider the state '4' for example\n",
    "# but '6' would also work and would correspond\n",
    "# to S[1,1].\n",
    "\n",
    "f_4 =  1-1/(S[0,0])\n",
    "print(\"So the value of f_4 is\",f_4)"
   ]
  },
  {
   "cell_type": "markdown",
   "metadata": {},
   "source": [
    "We can now deduce the theoretical probability distribution of $N_i$ and compare with the one obtained before."
   ]
  },
  {
   "cell_type": "code",
   "execution_count": 16,
   "metadata": {},
   "outputs": [
    {
     "name": "stdout",
     "output_type": "stream",
     "text": [
      "[1, 3, 2]\n"
     ]
    },
    {
     "data": {
      "image/png": "[encoded data removed]",
      "text/plain": [
       "<Figure size 432x288 with 1 Axes>"
      ]
     },
     "metadata": {
      "needs_background": "light"
     },
     "output_type": "display_data"
    }
   ],
   "source": [
    "# Using the just obtained value for f_4 we get\n",
    "\n",
    "L = len(normalized_hist.keys())\n",
    "true_hist = {}\n",
    "for i in range(L):\n",
    "    true_hist[i+1] = (1-f_4)*f_4**(i)\n",
    "\n",
    "# Comparing the two histograms\n",
    "plt.title('empirical distribution of the number of visits to a transient state')\n",
    "plt.xlabel('number of visits to state 4')\n",
    "plt.ylabel('probability')\n",
    "print(list(normalized_hist.keys()))\n",
    "plt.bar([x-0.1 for x in list(normalized_hist.keys())], normalized_hist.values(), color='b', width=0.15, label = 'empirical')\n",
    "plt.bar([x+0.1 for x in list(true_hist.keys())], true_hist.values(), color='r', width=0.15, label=\"theoretical\")\n",
    "plt.legend()\n",
    "plt.show()"
   ]
  },
  {
   "cell_type": "markdown",
   "metadata": {
    "slideshow": {
     "slide_type": "slide"
    }
   },
   "source": [
    "## 2. Gambler's ruin\n",
    "\n",
    "We proceed similarly as before"
   ]
  },
  {
   "cell_type": "code",
   "execution_count": 17,
   "metadata": {},
   "outputs": [
    {
     "name": "stdout",
     "output_type": "stream",
     "text": [
      "Mean number of visiting i = 25 is 5.092\n"
     ]
    }
   ],
   "source": [
    "# modify any of these parameters again to see what happens\n",
    "M = 1000      # number of simulations\n",
    "n = 1000       # number of steps\n",
    "p = 0.40      # P(winning a bet)\n",
    "q = 1 - p     # P(losing a bet)\n",
    "N = 50      # money of bank\n",
    "i = 25      # initial state\n",
    "\n",
    "gamblers_hist = {1:0} # Initialize the histogram as a dictionnary\n",
    "\n",
    "visited = np.zeros(M)\n",
    "\n",
    "# Run a lot of simulations and complete\n",
    "# the histogram on the go\n",
    "for r in range(M):\n",
    "    count = 1\n",
    "    x = [i]\n",
    "    step = 1\n",
    "    while 0 < x[-1] < N and step <= n:\n",
    "        if np.random.rand() <= p:\n",
    "            # winning $1 bet\n",
    "            x.append(x[-1] + 1) \n",
    "        else:\n",
    "            # losing $1 bet\n",
    "            x.append(x[-1] - 1)\n",
    "        if x[-1] == i:\n",
    "            count += 1\n",
    "        step += 1\n",
    "    visited[r] += count\n",
    "    # add an element to the histogram\n",
    "    if count in gamblers_hist:\n",
    "        gamblers_hist[count] += 1\n",
    "    else:\n",
    "        gamblers_hist[count] = 1\n",
    "\n",
    "# renormalize the empirical probability distribution\n",
    "total = sum(gamblers_hist.values())\n",
    "factor = 1/total\n",
    "normalized_gamblers_hist =  {key:value*factor for key,value in gamblers_hist.items()}\n",
    "\n",
    "print(\"Mean number of visiting i =\", i, \"is\", np.sum(visited) / M)"
   ]
  },
  {
   "cell_type": "code",
   "execution_count": 18,
   "metadata": {},
   "outputs": [
    {
     "name": "stdout",
     "output_type": "stream",
     "text": [
      "So the value of f is 0.7999841585214268\n"
     ]
    }
   ],
   "source": [
    "# specify your PT\n",
    "# This is the submatrix of P\n",
    "# containing the transient states only\n",
    "\n",
    "# Constructing the matrix PT\n",
    "PT = np.diag(q*np.ones(N), k=-1) + np.diag(p*np.ones(N), k=1) \n",
    "PT[0, :] = 0\n",
    "PT[0, 0] = 1\n",
    "PT[N, :] = 0\n",
    "PT[N, N] = 1\n",
    "A = [0, N]\n",
    "B = range(1, N)\n",
    "PT = PT[np.ix_(B, B)]\n",
    "\n",
    "# Compute S\n",
    "S = np.linalg.inv(np.identity(PT.shape[0]) - PT)\n",
    "\n",
    "# Evaluate S[i-1,i-1] to obtain the \n",
    "# expected number of return to i\n",
    "# starting from i.\n",
    "\n",
    "f =  1-1/(S[i-1,i-1])\n",
    "print(\"So the value of f is\",f)"
   ]
  },
  {
   "cell_type": "code",
   "execution_count": 19,
   "metadata": {},
   "outputs": [
    {
     "data": {
      "image/png": "[encoded data removed]",
      "text/plain": [
       "<Figure size 432x288 with 1 Axes>"
      ]
     },
     "metadata": {
      "needs_background": "light"
     },
     "output_type": "display_data"
    }
   ],
   "source": [
    "### Comparing the two histograms\n",
    "\n",
    "# First compute the theoretical histogram\n",
    "# with the formula seen in the lecture\n",
    "\n",
    "# Initialize the size\n",
    "L = len(normalized_gamblers_hist.keys())\n",
    "true_gamblers_hist = {}\n",
    "\n",
    "# Compute the probability distribution with the \n",
    "# formula from the lectures\n",
    "for i in range(L):\n",
    "    true_gamblers_hist[i+1] = (1-f)*f**i\n",
    "\n",
    "\n",
    "# Plotting\n",
    "plt.title('distribution of the number of visits to the transient state i')\n",
    "plt.xlabel('number of visits to state i ')\n",
    "plt.ylabel('probability')\n",
    "\n",
    "plt.bar([x-0.1 for x in list(normalized_gamblers_hist.keys())], \n",
    "        normalized_gamblers_hist.values(), \n",
    "        color='b', width=0.2, label = 'empirical')\n",
    "plt.bar([x+0.1 for x in list(true_gamblers_hist.keys())], \n",
    "        true_gamblers_hist.values(), \n",
    "        color='r', width=0.2, label=\"theoretical\")\n",
    "plt.legend()\n",
    "plt.show()"
   ]
  },
  {
   "cell_type": "code",
   "execution_count": null,
   "metadata": {},
   "outputs": [],
   "source": []
  }
 ],
 "metadata": {
  "kernelspec": {
   "display_name": "Python 3",
   "language": "python",
   "name": "python3"
  },
  "language_info": {
   "codemirror_mode": {
    "name": "ipython",
    "version": 3
   },
   "file_extension": ".py",
   "mimetype": "text/x-python",
   "name": "python",
   "nbconvert_exporter": "python",
   "pygments_lexer": "ipython3",
   "version": "3.8.6"
  }
 },
 "nbformat": 4,
 "nbformat_minor": 4
}
